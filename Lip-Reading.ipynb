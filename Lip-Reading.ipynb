{
 "cells": [
  {
   "cell_type": "code",
   "execution_count": 1,
   "metadata": {},
   "outputs": [
    {
     "name": "stdout",
     "output_type": "stream",
     "text": [
      "Requirement already satisfied: opencv-python==4.6.0.66 in e:\\dip_project\\lip_reading\\lipreading\\lib\\site-packages (4.6.0.66)\n",
      "Note: you may need to restart the kernel to use updated packages.\n"
     ]
    },
    {
     "name": "stderr",
     "output_type": "stream",
     "text": [
      "ERROR: Ignored the following versions that require a different python version: 3.6.0 Requires-Python >=3.8; 3.6.0rc1 Requires-Python >=3.8; 3.6.0rc2 Requires-Python >=3.8; 3.6.1 Requires-Python >=3.8; 3.6.2 Requires-Python >=3.8; 3.6.3 Requires-Python >=3.8; 3.7.0 Requires-Python >=3.8; 3.7.0rc1 Requires-Python >=3.8; 3.7.1 Requires-Python >=3.8\n",
      "ERROR: Could not find a version that satisfies the requirement matplotlib==3.6.2 (from versions: 0.86, 0.86.1, 0.86.2, 0.91.0, 0.91.1, 1.0.1, 1.1.0, 1.1.1, 1.2.0, 1.2.1, 1.3.0, 1.3.1, 1.4.0, 1.4.1rc1, 1.4.1, 1.4.2, 1.4.3, 1.5.0, 1.5.1, 1.5.2, 1.5.3, 2.0.0b1, 2.0.0b2, 2.0.0b3, 2.0.0b4, 2.0.0rc1, 2.0.0rc2, 2.0.0, 2.0.1, 2.0.2, 2.1.0rc1, 2.1.0, 2.1.1, 2.1.2, 2.2.0rc1, 2.2.0, 2.2.2, 2.2.3, 2.2.4, 2.2.5, 3.0.0rc2, 3.0.0, 3.0.1, 3.0.2, 3.0.3, 3.1.0rc1, 3.1.0rc2, 3.1.0, 3.1.1, 3.1.2, 3.1.3, 3.2.0rc1, 3.2.0rc3, 3.2.0, 3.2.1, 3.2.2, 3.3.0rc1, 3.3.0, 3.3.1, 3.3.2, 3.3.3, 3.3.4, 3.4.0rc1, 3.4.0rc2, 3.4.0rc3, 3.4.0, 3.4.1, 3.4.2, 3.4.3, 3.5.0b1, 3.5.0rc1, 3.5.0, 3.5.1, 3.5.2, 3.5.3)\n",
      "ERROR: No matching distribution found for matplotlib==3.6.2\n"
     ]
    }
   ],
   "source": [
    "# pip install opencv-python==4.6.0.66 matplotlib==3.6.2 imageio==2.23.0 gdown==4.6.0 tensorflow==2.10.1\n"
   ]
  },
  {
   "cell_type": "code",
   "execution_count": 5,
   "metadata": {},
   "outputs": [],
   "source": [
    "import os\n",
    "import cv2\n",
    "import tensorflow as tf\n",
    "import numpy as np\n",
    "from typing import List\n",
    "from matplotlib import pyplot as plt\n",
    "import imageio"
   ]
  },
  {
   "cell_type": "code",
   "execution_count": 2,
   "metadata": {},
   "outputs": [
    {
     "data": {
      "text/plain": [
       "[]"
      ]
     },
     "execution_count": 2,
     "metadata": {},
     "output_type": "execute_result"
    }
   ],
   "source": [
    "tf.config.list_physical_devices('GPU')"
   ]
  },
  {
   "cell_type": "code",
   "execution_count": 3,
   "metadata": {},
   "outputs": [],
   "source": [
    "physical_devices = tf.config.list_physical_devices('GPU')\n",
    "try:\n",
    "    tf.config.experimental.set_memory_growth(physical_devices[0], True)\n",
    "except:\n",
    "    pass"
   ]
  },
  {
   "cell_type": "code",
   "execution_count": 4,
   "metadata": {},
   "outputs": [],
   "source": [
    "import gdown"
   ]
  },
  {
   "cell_type": "code",
   "execution_count": 6,
   "metadata": {},
   "outputs": [
    {
     "name": "stdout",
     "output_type": "stream",
     "text": [
      "Requirement already satisfied: gdown in e:\\dip_project\\lip_reading\\lipreading\\lib\\site-packages (4.7.1)\n",
      "Requirement already satisfied: filelock in e:\\dip_project\\lip_reading\\lipreading\\lib\\site-packages (from gdown) (3.12.0)\n",
      "Requirement already satisfied: requests[socks] in e:\\dip_project\\lip_reading\\lipreading\\lib\\site-packages (from gdown) (2.30.0)\n",
      "Requirement already satisfied: six in e:\\dip_project\\lip_reading\\lipreading\\lib\\site-packages (from gdown) (1.16.0)\n",
      "Requirement already satisfied: tqdm in e:\\dip_project\\lip_reading\\lipreading\\lib\\site-packages (from gdown) (4.65.0)\n",
      "Requirement already satisfied: beautifulsoup4 in e:\\dip_project\\lip_reading\\lipreading\\lib\\site-packages (from gdown) (4.12.2)\n",
      "Requirement already satisfied: soupsieve>1.2 in e:\\dip_project\\lip_reading\\lipreading\\lib\\site-packages (from beautifulsoup4->gdown) (2.4.1)\n",
      "Requirement already satisfied: charset-normalizer<4,>=2 in e:\\dip_project\\lip_reading\\lipreading\\lib\\site-packages (from requests[socks]->gdown) (3.1.0)\n",
      "Requirement already satisfied: idna<4,>=2.5 in e:\\dip_project\\lip_reading\\lipreading\\lib\\site-packages (from requests[socks]->gdown) (3.4)\n",
      "Requirement already satisfied: urllib3<3,>=1.21.1 in e:\\dip_project\\lip_reading\\lipreading\\lib\\site-packages (from requests[socks]->gdown) (2.0.2)\n",
      "Requirement already satisfied: certifi>=2017.4.17 in e:\\dip_project\\lip_reading\\lipreading\\lib\\site-packages (from requests[socks]->gdown) (2022.12.7)\n",
      "Requirement already satisfied: PySocks!=1.5.7,>=1.5.6 in e:\\dip_project\\lip_reading\\lipreading\\lib\\site-packages (from requests[socks]->gdown) (1.7.1)\n",
      "Requirement already satisfied: colorama in e:\\dip_project\\lip_reading\\lipreading\\lib\\site-packages (from tqdm->gdown) (0.4.6)\n"
     ]
    }
   ],
   "source": [
    "!pip install gdown"
   ]
  },
  {
   "cell_type": "code",
   "execution_count": null,
   "metadata": {},
   "outputs": [
    {
     "name": "stderr",
     "output_type": "stream",
     "text": [
      "Downloading...\n",
      "From (uriginal): https://drive.google.com/uc?id=1YlvpDLix3S-U8fd-gqRwPcWXAXm8JwjL\n",
      "From (redirected): https://drive.google.com/uc?id=1YlvpDLix3S-U8fd-gqRwPcWXAXm8JwjL&confirm=t&uuid=7dbdd539-efcf-4e3f-acb7-d5b244e19151\n",
      "To: E:\\DIP_PROJECT\\Lip_Reading\\data.zip\n",
      "  1%|▉                                                                              | 5.24M/423M [00:09<14:26, 483kB/s]"
     ]
    }
   ],
   "source": [
    "url = 'https://drive.google.com/uc?id=1YlvpDLix3S-U8fd-gqRwPcWXAXm8JwjL'\n",
    "output = 'data.zip'\n",
    "gdown.download(url, output, quiet=False)\n",
    "gdown.extractall('data.zip')"
   ]
  },
  {
   "cell_type": "code",
   "execution_count": 6,
   "metadata": {},
   "outputs": [],
   "source": [
    "def load_video(path:str) -> List[float]: \n",
    "\n",
    "    cap = cv2.VideoCapture(path)\n",
    "    frames = []\n",
    "    for _ in range(int(cap.get(cv2.CAP_PROP_FRAME_COUNT))): \n",
    "        ret, frame = cap.read()\n",
    "        frame = tf.image.rgb_to_grayscale(frame)\n",
    "        frames.append(frame[190:236,80:220,:])\n",
    "    cap.release()\n",
    "    \n",
    "    mean = tf.math.reduce_mean(frames)\n",
    "    std = tf.math.reduce_std(tf.cast(frames, tf.float32))\n",
    "    return tf.cast((frames - mean), tf.float32) / std\n",
    "#  performs frame-wise normalization on the video frames, making use of TensorFlow functions to calculate the mean\n",
    "# and standard deviation and then applying the normalization formula to each frame"
   ]
  },
  {
   "cell_type": "code",
   "execution_count": 11,
   "metadata": {
    "collapsed": true
   },
   "outputs": [
    {
     "ename": "NameError",
     "evalue": "name 'file_name' is not defined",
     "output_type": "error",
     "traceback": [
      "\u001b[1;31m---------------------------------------------------------------------------\u001b[0m",
      "\u001b[1;31mNameError\u001b[0m                                 Traceback (most recent call last)",
      "\u001b[1;32m~\\AppData\\Local\\Temp\\ipykernel_25432\\263164646.py\u001b[0m in \u001b[0;36m<module>\u001b[1;34m\u001b[0m\n\u001b[1;32m----> 1\u001b[1;33m \u001b[0mpath\u001b[0m \u001b[1;33m=\u001b[0m \u001b[0mos\u001b[0m\u001b[1;33m.\u001b[0m\u001b[0mpath\u001b[0m\u001b[1;33m.\u001b[0m\u001b[0mjoin\u001b[0m\u001b[1;33m(\u001b[0m\u001b[1;34m'data'\u001b[0m\u001b[1;33m,\u001b[0m\u001b[1;34m's1'\u001b[0m\u001b[1;33m,\u001b[0m\u001b[1;34mf'{file_name}.mpg'\u001b[0m\u001b[1;33m)\u001b[0m\u001b[1;33m\u001b[0m\u001b[1;33m\u001b[0m\u001b[0m\n\u001b[0m\u001b[0;32m      2\u001b[0m \u001b[0mcap\u001b[0m \u001b[1;33m=\u001b[0m \u001b[0mcv2\u001b[0m\u001b[1;33m.\u001b[0m\u001b[0mVideoCapture\u001b[0m\u001b[1;33m(\u001b[0m\u001b[0mpath\u001b[0m\u001b[1;33m)\u001b[0m\u001b[1;33m\u001b[0m\u001b[1;33m\u001b[0m\u001b[0m\n\u001b[0;32m      3\u001b[0m \u001b[1;31m# frames = []\u001b[0m\u001b[1;33m\u001b[0m\u001b[1;33m\u001b[0m\u001b[1;33m\u001b[0m\u001b[0m\n\u001b[0;32m      4\u001b[0m \u001b[1;33m\u001b[0m\u001b[0m\n\u001b[0;32m      5\u001b[0m \u001b[0mn\u001b[0m \u001b[1;33m=\u001b[0m \u001b[0mcap\u001b[0m\u001b[1;33m.\u001b[0m\u001b[0mget\u001b[0m\u001b[1;33m(\u001b[0m\u001b[0mcv2\u001b[0m\u001b[1;33m.\u001b[0m\u001b[0mCAP_PROP_FRAME_COUNT\u001b[0m\u001b[1;33m)\u001b[0m\u001b[1;33m\u001b[0m\u001b[1;33m\u001b[0m\u001b[0m\n",
      "\u001b[1;31mNameError\u001b[0m: name 'file_name' is not defined"
     ]
    }
   ],
   "source": []
  },
  {
   "cell_type": "markdown",
   "metadata": {},
   "source": [
    "# PREPROCEESING"
   ]
  },
  {
   "cell_type": "code",
   "execution_count": 7,
   "metadata": {},
   "outputs": [],
   "source": [
    "vocab = [x for x in \"abcdefghijklmnopqrstuvwxyz'?!123456789 \"]\n"
   ]
  },
  {
   "cell_type": "code",
   "execution_count": 8,
   "metadata": {},
   "outputs": [
    {
     "name": "stdout",
     "output_type": "stream",
     "text": [
      "The vocabulary is: ['', 'a', 'b', 'c', 'd', 'e', 'f', 'g', 'h', 'i', 'j', 'k', 'l', 'm', 'n', 'o', 'p', 'q', 'r', 's', 't', 'u', 'v', 'w', 'x', 'y', 'z', \"'\", '?', '!', '1', '2', '3', '4', '5', '6', '7', '8', '9', ' '] (size =40)\n"
     ]
    }
   ],
   "source": [
    "char_to_num = tf.keras.layers.StringLookup(vocabulary=vocab, oov_token=\"\")\n",
    "num_to_char = tf.keras.layers.StringLookup(\n",
    "    vocabulary=char_to_num.get_vocabulary(), oov_token=\"\", invert=True\n",
    ")\n",
    "\n",
    "print(\n",
    "    f\"The vocabulary is: {char_to_num.get_vocabulary()} \"\n",
    "    f\"(size ={char_to_num.vocabulary_size()})\"\n",
    ")"
   ]
  },
  {
   "cell_type": "code",
   "execution_count": 9,
   "metadata": {},
   "outputs": [
    {
     "data": {
      "text/plain": [
       "<tf.Tensor: shape=(2,), dtype=int64, numpy=array([ 1, 10], dtype=int64)>"
      ]
     },
     "execution_count": 9,
     "metadata": {},
     "output_type": "execute_result"
    }
   ],
   "source": [
    "char_to_num(['a','j'])"
   ]
  },
  {
   "cell_type": "code",
   "execution_count": 9,
   "metadata": {},
   "outputs": [
    {
     "data": {
      "text/plain": [
       "<tf.Tensor: shape=(4,), dtype=string, numpy=array([b'n', b'i', b'c', b'k'], dtype=object)>"
      ]
     },
     "execution_count": 9,
     "metadata": {},
     "output_type": "execute_result"
    }
   ],
   "source": [
    "num_to_char([14,  9,  3, 11])\n"
   ]
  },
  {
   "cell_type": "code",
   "execution_count": 10,
   "metadata": {},
   "outputs": [],
   "source": [
    "def load_alignments(path:str) -> List[str]: \n",
    "    with open(path, 'r') as f: \n",
    "        lines = f.readlines() \n",
    "    tokens = []\n",
    "    for line in lines:\n",
    "        line = line.split()\n",
    "        if line[2] != 'sil': \n",
    "            tokens = [*tokens,' ',line[2]]\n",
    "    return char_to_num(tf.reshape(tf.strings.unicode_split(tokens, input_encoding='UTF-8'), (-1)))[1:]"
   ]
  },
  {
   "cell_type": "code",
   "execution_count": 11,
   "metadata": {},
   "outputs": [],
   "source": [
    "def load_data(path: str): \n",
    "    path = bytes.decode(path.numpy())\n",
    "    #file_name = path.split('/')[-1].split('.')[0]\n",
    "    # File name splitting for windows\n",
    "    file_name = path.split('\\\\')[-1].split('.')[0]\n",
    "    video_path = os.path.join('data','s1',f'{file_name}.mpg')\n",
    "    alignment_path = os.path.join('data','alignments','s1',f'{file_name}.align')\n",
    "    frames = load_video(video_path) \n",
    "    alignments = load_alignments(alignment_path)\n",
    "    \n",
    "    return frames, alignments"
   ]
  },
  {
   "cell_type": "code",
   "execution_count": 12,
   "metadata": {},
   "outputs": [],
   "source": [
    "test_path = '.\\\\data\\\\s1\\\\bbal6n.mpg'"
   ]
  },
  {
   "cell_type": "code",
   "execution_count": 13,
   "metadata": {},
   "outputs": [
    {
     "data": {
      "text/plain": [
       "'.\\\\data\\\\s1\\\\bbal6n.mpg'"
      ]
     },
     "execution_count": 13,
     "metadata": {},
     "output_type": "execute_result"
    }
   ],
   "source": [
    "tf.convert_to_tensor(test_path).numpy().decode('utf-8')"
   ]
  },
  {
   "cell_type": "code",
   "execution_count": 14,
   "metadata": {},
   "outputs": [
    {
     "data": {
      "text/plain": [
       "'bbal6n'"
      ]
     },
     "execution_count": 14,
     "metadata": {},
     "output_type": "execute_result"
    }
   ],
   "source": [
    "\n",
    "tf.convert_to_tensor(test_path).numpy().decode('utf-8').split('\\\\')[-1].split('.')[0]"
   ]
  },
  {
   "cell_type": "code",
   "execution_count": 15,
   "metadata": {
    "collapsed": true
   },
   "outputs": [
    {
     "data": {
      "text/plain": [
       "(<tf.Tensor: shape=(75, 46, 140, 1), dtype=float32, numpy=\n",
       " array([[[[ 1.4603739 ],\n",
       "          [ 1.4603739 ],\n",
       "          [ 1.4209043 ],\n",
       "          ...,\n",
       "          [ 0.15787826],\n",
       "          [ 0.19734782],\n",
       "          [ 0.07893913]],\n",
       " \n",
       "         [[ 1.4603739 ],\n",
       "          [ 1.4603739 ],\n",
       "          [ 1.4209043 ],\n",
       "          ...,\n",
       "          [ 0.15787826],\n",
       "          [ 0.07893913],\n",
       "          [ 0.03946957]],\n",
       " \n",
       "         [[ 1.4209043 ],\n",
       "          [ 1.4209043 ],\n",
       "          [ 1.3814348 ],\n",
       "          ...,\n",
       "          [ 0.07893913],\n",
       "          [ 0.07893913],\n",
       "          [ 0.07893913]],\n",
       " \n",
       "         ...,\n",
       " \n",
       "         [[ 0.94726956],\n",
       "          [ 0.94726956],\n",
       "          [ 0.94726956],\n",
       "          ...,\n",
       "          [ 9.94633   ],\n",
       "          [ 9.867392  ],\n",
       "          [ 9.867392  ]],\n",
       " \n",
       "         [[ 0.94726956],\n",
       "          [ 0.94726956],\n",
       "          [ 0.94726956],\n",
       "          ...,\n",
       "          [ 9.90686   ],\n",
       "          [ 9.867392  ],\n",
       "          [ 9.867392  ]],\n",
       " \n",
       "         [[ 0.94726956],\n",
       "          [ 0.94726956],\n",
       "          [ 0.94726956],\n",
       "          ...,\n",
       "          [ 9.90686   ],\n",
       "          [ 9.867392  ],\n",
       "          [ 9.867392  ]]],\n",
       " \n",
       " \n",
       "        [[[ 1.4209043 ],\n",
       "          [ 1.4209043 ],\n",
       "          [ 1.3419652 ],\n",
       "          ...,\n",
       "          [ 0.19734782],\n",
       "          [ 0.11840869],\n",
       "          [ 0.15787826]],\n",
       " \n",
       "         [[ 1.4209043 ],\n",
       "          [ 1.4209043 ],\n",
       "          [ 1.3419652 ],\n",
       "          ...,\n",
       "          [ 0.23681739],\n",
       "          [ 0.        ],\n",
       "          [ 0.03946957]],\n",
       " \n",
       "         [[ 1.3419652 ],\n",
       "          [ 1.3419652 ],\n",
       "          [ 1.3024956 ],\n",
       "          ...,\n",
       "          [ 0.11840869],\n",
       "          [ 0.15787826],\n",
       "          [ 0.15787826]],\n",
       " \n",
       "         ...,\n",
       " \n",
       "         [[ 0.94726956],\n",
       "          [ 0.94726956],\n",
       "          [ 0.94726956],\n",
       "          ...,\n",
       "          [10.0252695 ],\n",
       "          [ 9.94633   ],\n",
       "          [ 9.94633   ]],\n",
       " \n",
       "         [[ 0.90779996],\n",
       "          [ 0.90779996],\n",
       "          [ 0.90779996],\n",
       "          ...,\n",
       "          [ 9.94633   ],\n",
       "          [ 9.90686   ],\n",
       "          [ 9.90686   ]],\n",
       " \n",
       "         [[ 0.90779996],\n",
       "          [ 0.90779996],\n",
       "          [ 0.90779996],\n",
       "          ...,\n",
       "          [ 9.94633   ],\n",
       "          [ 9.90686   ],\n",
       "          [ 9.90686   ]]],\n",
       " \n",
       " \n",
       "        [[[ 1.4209043 ],\n",
       "          [ 1.4209043 ],\n",
       "          [ 1.3419652 ],\n",
       "          ...,\n",
       "          [ 0.15787826],\n",
       "          [ 0.07893913],\n",
       "          [ 0.15787826]],\n",
       " \n",
       "         [[ 1.4209043 ],\n",
       "          [ 1.4209043 ],\n",
       "          [ 1.3419652 ],\n",
       "          ...,\n",
       "          [ 0.27628696],\n",
       "          [ 0.03946957],\n",
       "          [ 0.15787826]],\n",
       " \n",
       "         [[ 1.3419652 ],\n",
       "          [ 1.3024956 ],\n",
       "          [ 1.3419652 ],\n",
       "          ...,\n",
       "          [ 0.11840869],\n",
       "          [ 0.11840869],\n",
       "          [ 0.11840869]],\n",
       " \n",
       "         ...,\n",
       " \n",
       "         [[ 0.9867391 ],\n",
       "          [ 0.9867391 ],\n",
       "          [ 0.94726956],\n",
       "          ...,\n",
       "          [ 9.9858    ],\n",
       "          [ 9.9858    ],\n",
       "          [ 9.9858    ]],\n",
       " \n",
       "         [[ 0.94726956],\n",
       "          [ 0.94726956],\n",
       "          [ 0.90779996],\n",
       "          ...,\n",
       "          [ 9.94633   ],\n",
       "          [ 9.90686   ],\n",
       "          [ 9.90686   ]],\n",
       " \n",
       "         [[ 0.94726956],\n",
       "          [ 0.94726956],\n",
       "          [ 0.90779996],\n",
       "          ...,\n",
       "          [ 9.94633   ],\n",
       "          [ 9.90686   ],\n",
       "          [ 9.90686   ]]],\n",
       " \n",
       " \n",
       "        ...,\n",
       " \n",
       " \n",
       "        [[[ 1.3814348 ],\n",
       "          [ 1.3814348 ],\n",
       "          [ 1.4209043 ],\n",
       "          ...,\n",
       "          [ 0.19734782],\n",
       "          [ 0.15787826],\n",
       "          [ 0.07893913]],\n",
       " \n",
       "         [[ 1.3814348 ],\n",
       "          [ 1.3814348 ],\n",
       "          [ 1.4209043 ],\n",
       "          ...,\n",
       "          [ 0.11840869],\n",
       "          [ 0.11840869],\n",
       "          [ 0.07893913]],\n",
       " \n",
       "         [[ 1.3024956 ],\n",
       "          [ 1.3024956 ],\n",
       "          [ 1.3024956 ],\n",
       "          ...,\n",
       "          [ 0.11840869],\n",
       "          [ 0.11840869],\n",
       "          [ 0.15787826]],\n",
       " \n",
       "         ...,\n",
       " \n",
       "         [[ 0.9867391 ],\n",
       "          [ 0.94726956],\n",
       "          [ 0.94726956],\n",
       "          ...,\n",
       "          [ 9.90686   ],\n",
       "          [ 9.867392  ],\n",
       "          [ 9.867392  ]],\n",
       " \n",
       "         [[ 0.94726956],\n",
       "          [ 0.94726956],\n",
       "          [ 0.94726956],\n",
       "          ...,\n",
       "          [ 9.90686   ],\n",
       "          [ 9.867392  ],\n",
       "          [ 9.867392  ]],\n",
       " \n",
       "         [[ 0.94726956],\n",
       "          [ 0.94726956],\n",
       "          [ 0.94726956],\n",
       "          ...,\n",
       "          [ 9.90686   ],\n",
       "          [ 9.867392  ],\n",
       "          [ 9.867392  ]]],\n",
       " \n",
       " \n",
       "        [[[ 1.3419652 ],\n",
       "          [ 1.3419652 ],\n",
       "          [ 1.3814348 ],\n",
       "          ...,\n",
       "          [ 0.15787826],\n",
       "          [ 0.07893913],\n",
       "          [ 0.        ]],\n",
       " \n",
       "         [[ 1.3419652 ],\n",
       "          [ 1.3419652 ],\n",
       "          [ 1.3814348 ],\n",
       "          ...,\n",
       "          [ 0.15787826],\n",
       "          [ 0.11840869],\n",
       "          [ 0.03946957]],\n",
       " \n",
       "         [[ 1.3024956 ],\n",
       "          [ 1.3024956 ],\n",
       "          [ 1.3024956 ],\n",
       "          ...,\n",
       "          [ 0.11840869],\n",
       "          [ 0.07893913],\n",
       "          [ 0.11840869]],\n",
       " \n",
       "         ...,\n",
       " \n",
       "         [[ 0.94726956],\n",
       "          [ 0.90779996],\n",
       "          [ 0.90779996],\n",
       "          ...,\n",
       "          [ 9.867392  ],\n",
       "          [ 9.827922  ],\n",
       "          [ 9.827922  ]],\n",
       " \n",
       "         [[ 0.90779996],\n",
       "          [ 0.90779996],\n",
       "          [ 0.90779996],\n",
       "          ...,\n",
       "          [ 9.867392  ],\n",
       "          [ 9.827922  ],\n",
       "          [ 9.827922  ]],\n",
       " \n",
       "         [[ 0.90779996],\n",
       "          [ 0.90779996],\n",
       "          [ 0.90779996],\n",
       "          ...,\n",
       "          [ 9.867392  ],\n",
       "          [ 9.827922  ],\n",
       "          [ 9.827922  ]]],\n",
       " \n",
       " \n",
       "        [[[ 1.3024956 ],\n",
       "          [ 1.3024956 ],\n",
       "          [ 1.3814348 ],\n",
       "          ...,\n",
       "          [ 0.07893913],\n",
       "          [ 0.07893913],\n",
       "          [ 0.15787826]],\n",
       " \n",
       "         [[ 1.3024956 ],\n",
       "          [ 1.3024956 ],\n",
       "          [ 1.3814348 ],\n",
       "          ...,\n",
       "          [ 0.        ],\n",
       "          [ 0.07893913],\n",
       "          [ 0.23681739]],\n",
       " \n",
       "         [[ 1.3419652 ],\n",
       "          [ 1.3419652 ],\n",
       "          [ 1.3419652 ],\n",
       "          ...,\n",
       "          [ 0.07893913],\n",
       "          [ 0.07893913],\n",
       "          [ 0.07893913]],\n",
       " \n",
       "         ...,\n",
       " \n",
       "         [[ 0.90779996],\n",
       "          [ 0.90779996],\n",
       "          [ 0.90779996],\n",
       "          ...,\n",
       "          [ 9.90686   ],\n",
       "          [ 9.867392  ],\n",
       "          [ 9.867392  ]],\n",
       " \n",
       "         [[ 0.90779996],\n",
       "          [ 0.90779996],\n",
       "          [ 0.90779996],\n",
       "          ...,\n",
       "          [ 9.94633   ],\n",
       "          [ 9.867392  ],\n",
       "          [ 9.867392  ]],\n",
       " \n",
       "         [[ 0.90779996],\n",
       "          [ 0.90779996],\n",
       "          [ 0.90779996],\n",
       "          ...,\n",
       "          [ 9.94633   ],\n",
       "          [ 9.867392  ],\n",
       "          [ 9.867392  ]]]], dtype=float32)>,\n",
       " <tf.Tensor: shape=(21,), dtype=int64, numpy=\n",
       " array([ 2,  9, 14, 39,  2, 12, 21,  5, 39,  1, 20, 39, 12, 39, 19,  9, 24,\n",
       "        39, 14, 15, 23], dtype=int64)>)"
      ]
     },
     "execution_count": 15,
     "metadata": {},
     "output_type": "execute_result"
    }
   ],
   "source": [
    "load_data(tf.convert_to_tensor(test_path))"
   ]
  },
  {
   "cell_type": "code",
   "execution_count": 16,
   "metadata": {},
   "outputs": [],
   "source": [
    "\n",
    "frames, alignments = load_data(tf.convert_to_tensor(test_path))"
   ]
  },
  {
   "cell_type": "code",
   "execution_count": 17,
   "metadata": {},
   "outputs": [
    {
     "data": {
      "text/plain": [
       "<matplotlib.image.AxesImage at 0x1753feef688>"
      ]
     },
     "execution_count": 17,
     "metadata": {},
     "output_type": "execute_result"
    },
    {
     "data": {
      "image/png": "[encoded data removed]",
      "text/plain": [
       "<Figure size 640x480 with 1 Axes>"
      ]
     },
     "metadata": {},
     "output_type": "display_data"
    }
   ],
   "source": [
    "plt.imshow(frames[50])"
   ]
  },
  {
   "cell_type": "code",
   "execution_count": 18,
   "metadata": {},
   "outputs": [
    {
     "data": {
      "text/plain": [
       "<tf.Tensor: shape=(21,), dtype=int64, numpy=\n",
       "array([ 2,  9, 14, 39,  2, 12, 21,  5, 39,  1, 20, 39, 12, 39, 19,  9, 24,\n",
       "       39, 14, 15, 23], dtype=int64)>"
      ]
     },
     "execution_count": 18,
     "metadata": {},
     "output_type": "execute_result"
    }
   ],
   "source": [
    "alignments"
   ]
  },
  {
   "cell_type": "code",
   "execution_count": 19,
   "metadata": {},
   "outputs": [
    {
     "name": "stdout",
     "output_type": "stream",
     "text": [
      "['b', 'i', 'n', ' ', 'b', 'l', 'u', 'e', ' ', 'a', 't', ' ', 'l', ' ', 's', 'i', 'x', ' ', 'n', 'o', 'w']\n"
     ]
    }
   ],
   "source": [
    "print([bytes.decode(x) for x in num_to_char(alignments.numpy()).numpy()])"
   ]
  },
  {
   "cell_type": "code",
   "execution_count": 22,
   "metadata": {},
   "outputs": [
    {
     "data": {
      "text/plain": [
       "<tf.Tensor: shape=(), dtype=string, numpy=b'bin blue at l six now'>"
      ]
     },
     "execution_count": 22,
     "metadata": {},
     "output_type": "execute_result"
    }
   ],
   "source": [
    "tf.strings.reduce_join([bytes.decode(x) for x in num_to_char(alignments.numpy()).numpy()])"
   ]
  },
  {
   "cell_type": "code",
   "execution_count": 14,
   "metadata": {},
   "outputs": [],
   "source": [
    "def mappable_function(path:str) ->List[str]:\n",
    "    result = tf.py_function(load_data, [path], (tf.float32, tf.int64))\n",
    "    return result"
   ]
  },
  {
   "cell_type": "markdown",
   "metadata": {},
   "source": [
    "# CREATING DATA PIPELINE"
   ]
  },
  {
   "cell_type": "code",
   "execution_count": 12,
   "metadata": {},
   "outputs": [],
   "source": [
    "from matplotlib import pyplot as plt\n"
   ]
  },
  {
   "cell_type": "code",
   "execution_count": 15,
   "metadata": {},
   "outputs": [],
   "source": [
    "\n",
    "data = tf.data.Dataset.list_files('./data/s1/*.mpg')\n",
    "data = data.shuffle(500, reshuffle_each_iteration=False)\n",
    "data = data.map(mappable_function)\n",
    "# we are making sure that all tokens are of equal size that is 40 and is padded with zero\n",
    "data = data.padded_batch(2, padded_shapes=([75,None,None,None],[40]))\n",
    "data = data.prefetch(tf.data.AUTOTUNE)\n",
    "# Added for split \n",
    "train = data.take(450)\n",
    "test = data.skip(450)"
   ]
  },
  {
   "cell_type": "code",
   "execution_count": 26,
   "metadata": {},
   "outputs": [
    {
     "data": {
      "text/plain": [
       "50"
      ]
     },
     "execution_count": 26,
     "metadata": {},
     "output_type": "execute_result"
    }
   ],
   "source": [
    "len(test)"
   ]
  },
  {
   "cell_type": "code",
   "execution_count": 27,
   "metadata": {},
   "outputs": [],
   "source": [
    "frames, alignments = data.as_numpy_iterator().next()"
   ]
  },
  {
   "cell_type": "code",
   "execution_count": 28,
   "metadata": {},
   "outputs": [
    {
     "data": {
      "text/plain": [
       "2"
      ]
     },
     "execution_count": 28,
     "metadata": {},
     "output_type": "execute_result"
    }
   ],
   "source": [
    "len(frames)\n"
   ]
  },
  {
   "cell_type": "code",
   "execution_count": 21,
   "metadata": {},
   "outputs": [],
   "source": [
    "sample = data.as_numpy_iterator()"
   ]
  },
  {
   "cell_type": "code",
   "execution_count": 22,
   "metadata": {},
   "outputs": [
    {
     "data": {
      "text/plain": [
       "array([[[[[1.5293257 ],\n",
       "          [1.4528594 ],\n",
       "          [1.2999269 ],\n",
       "          ...,\n",
       "          [0.3440983 ],\n",
       "          [0.3440983 ],\n",
       "          [0.3440983 ]],\n",
       "\n",
       "         [[1.5293257 ],\n",
       "          [1.4146264 ],\n",
       "          [1.1469944 ],\n",
       "          ...,\n",
       "          [0.3440983 ],\n",
       "          [0.3440983 ],\n",
       "          [0.3440983 ]],\n",
       "\n",
       "         [[1.5675589 ],\n",
       "          [1.5675589 ],\n",
       "          [1.4910926 ],\n",
       "          ...,\n",
       "          [0.38233143],\n",
       "          [0.3440983 ],\n",
       "          [0.3440983 ]],\n",
       "\n",
       "         ...,\n",
       "\n",
       "         [[1.070528  ],\n",
       "          [1.070528  ],\n",
       "          [1.070528  ],\n",
       "          ...,\n",
       "          [0.07646628],\n",
       "          [0.07646628],\n",
       "          [0.07646628]],\n",
       "\n",
       "         [[1.070528  ],\n",
       "          [1.070528  ],\n",
       "          [1.070528  ],\n",
       "          ...,\n",
       "          [0.07646628],\n",
       "          [0.07646628],\n",
       "          [0.07646628]],\n",
       "\n",
       "         [[1.070528  ],\n",
       "          [1.070528  ],\n",
       "          [1.070528  ],\n",
       "          ...,\n",
       "          [0.07646628],\n",
       "          [0.07646628],\n",
       "          [0.03823314]]],\n",
       "\n",
       "\n",
       "        [[[1.4910926 ],\n",
       "          [1.4528594 ],\n",
       "          [1.4528594 ],\n",
       "          ...,\n",
       "          [0.267632  ],\n",
       "          [0.267632  ],\n",
       "          [0.267632  ]],\n",
       "\n",
       "         [[1.5675589 ],\n",
       "          [1.4528594 ],\n",
       "          [1.2999269 ],\n",
       "          ...,\n",
       "          [0.267632  ],\n",
       "          [0.267632  ],\n",
       "          [0.267632  ]],\n",
       "\n",
       "         [[1.5293257 ],\n",
       "          [1.5293257 ],\n",
       "          [1.4910926 ],\n",
       "          ...,\n",
       "          [0.3440983 ],\n",
       "          [0.3440983 ],\n",
       "          [0.3440983 ]],\n",
       "\n",
       "         ...,\n",
       "\n",
       "         [[1.1087612 ],\n",
       "          [1.1087612 ],\n",
       "          [1.1087612 ],\n",
       "          ...,\n",
       "          [0.07646628],\n",
       "          [0.03823314],\n",
       "          [0.03823314]],\n",
       "\n",
       "         [[1.1087612 ],\n",
       "          [1.1087612 ],\n",
       "          [1.070528  ],\n",
       "          ...,\n",
       "          [0.03823314],\n",
       "          [0.03823314],\n",
       "          [0.03823314]],\n",
       "\n",
       "         [[1.070528  ],\n",
       "          [1.070528  ],\n",
       "          [1.070528  ],\n",
       "          ...,\n",
       "          [0.03823314],\n",
       "          [0.03823314],\n",
       "          [0.        ]]],\n",
       "\n",
       "\n",
       "        [[[1.4528594 ],\n",
       "          [1.4528594 ],\n",
       "          [1.4910926 ],\n",
       "          ...,\n",
       "          [0.3440983 ],\n",
       "          [0.30586514],\n",
       "          [0.30586514]],\n",
       "\n",
       "         [[1.5293257 ],\n",
       "          [1.3763932 ],\n",
       "          [1.2999269 ],\n",
       "          ...,\n",
       "          [0.3440983 ],\n",
       "          [0.30586514],\n",
       "          [0.30586514]],\n",
       "\n",
       "         [[1.5293257 ],\n",
       "          [1.5293257 ],\n",
       "          [1.5293257 ],\n",
       "          ...,\n",
       "          [0.3440983 ],\n",
       "          [0.3440983 ],\n",
       "          [0.3440983 ]],\n",
       "\n",
       "         ...,\n",
       "\n",
       "         [[1.1087612 ],\n",
       "          [1.1087612 ],\n",
       "          [1.1087612 ],\n",
       "          ...,\n",
       "          [0.07646628],\n",
       "          [0.03823314],\n",
       "          [0.03823314]],\n",
       "\n",
       "         [[1.1087612 ],\n",
       "          [1.1087612 ],\n",
       "          [1.070528  ],\n",
       "          ...,\n",
       "          [0.03823314],\n",
       "          [0.03823314],\n",
       "          [0.03823314]],\n",
       "\n",
       "         [[1.070528  ],\n",
       "          [1.070528  ],\n",
       "          [1.070528  ],\n",
       "          ...,\n",
       "          [0.03823314],\n",
       "          [0.03823314],\n",
       "          [0.        ]]],\n",
       "\n",
       "\n",
       "        ...,\n",
       "\n",
       "\n",
       "        [[[1.5293257 ],\n",
       "          [1.4910926 ],\n",
       "          [1.33816   ],\n",
       "          ...,\n",
       "          [0.30586514],\n",
       "          [0.30586514],\n",
       "          [0.30586514]],\n",
       "\n",
       "         [[1.4910926 ],\n",
       "          [1.4910926 ],\n",
       "          [1.4146264 ],\n",
       "          ...,\n",
       "          [0.30586514],\n",
       "          [0.30586514],\n",
       "          [0.30586514]],\n",
       "\n",
       "         [[1.5293257 ],\n",
       "          [1.5293257 ],\n",
       "          [1.4910926 ],\n",
       "          ...,\n",
       "          [0.3440983 ],\n",
       "          [0.3440983 ],\n",
       "          [0.30586514]],\n",
       "\n",
       "         ...,\n",
       "\n",
       "         [[0.9940617 ],\n",
       "          [0.9940617 ],\n",
       "          [1.0322949 ],\n",
       "          ...,\n",
       "          [0.03823314],\n",
       "          [0.03823314],\n",
       "          [0.03823314]],\n",
       "\n",
       "         [[0.9940617 ],\n",
       "          [0.9940617 ],\n",
       "          [1.0322949 ],\n",
       "          ...,\n",
       "          [0.03823314],\n",
       "          [0.03823314],\n",
       "          [0.        ]],\n",
       "\n",
       "         [[0.9940617 ],\n",
       "          [0.9940617 ],\n",
       "          [1.0322949 ],\n",
       "          ...,\n",
       "          [0.03823314],\n",
       "          [0.        ],\n",
       "          [0.        ]]],\n",
       "\n",
       "\n",
       "        [[[1.6440252 ],\n",
       "          [1.5293257 ],\n",
       "          [1.4146264 ],\n",
       "          ...,\n",
       "          [0.30586514],\n",
       "          [0.267632  ],\n",
       "          [0.267632  ]],\n",
       "\n",
       "         [[1.5293257 ],\n",
       "          [1.5675589 ],\n",
       "          [1.4528594 ],\n",
       "          ...,\n",
       "          [0.30586514],\n",
       "          [0.267632  ],\n",
       "          [0.267632  ]],\n",
       "\n",
       "         [[1.5293257 ],\n",
       "          [1.5293257 ],\n",
       "          [1.4528594 ],\n",
       "          ...,\n",
       "          [0.3440983 ],\n",
       "          [0.3440983 ],\n",
       "          [0.3440983 ]],\n",
       "\n",
       "         ...,\n",
       "\n",
       "         [[1.1087612 ],\n",
       "          [1.0322949 ],\n",
       "          [1.070528  ],\n",
       "          ...,\n",
       "          [0.        ],\n",
       "          [0.        ],\n",
       "          [0.03823314]],\n",
       "\n",
       "         [[1.0322949 ],\n",
       "          [1.0322949 ],\n",
       "          [1.070528  ],\n",
       "          ...,\n",
       "          [0.        ],\n",
       "          [0.03823314],\n",
       "          [0.        ]],\n",
       "\n",
       "         [[1.0322949 ],\n",
       "          [1.0322949 ],\n",
       "          [1.070528  ],\n",
       "          ...,\n",
       "          [0.03823314],\n",
       "          [0.        ],\n",
       "          [0.        ]]],\n",
       "\n",
       "\n",
       "        [[[1.5675589 ],\n",
       "          [1.5293257 ],\n",
       "          [1.3763932 ],\n",
       "          ...,\n",
       "          [0.30586514],\n",
       "          [0.267632  ],\n",
       "          [0.267632  ]],\n",
       "\n",
       "         [[1.5293257 ],\n",
       "          [1.5293257 ],\n",
       "          [1.2999269 ],\n",
       "          ...,\n",
       "          [0.30586514],\n",
       "          [0.267632  ],\n",
       "          [0.267632  ]],\n",
       "\n",
       "         [[1.5293257 ],\n",
       "          [1.5293257 ],\n",
       "          [1.4528594 ],\n",
       "          ...,\n",
       "          [0.3440983 ],\n",
       "          [0.30586514],\n",
       "          [0.30586514]],\n",
       "\n",
       "         ...,\n",
       "\n",
       "         [[1.1087612 ],\n",
       "          [1.1087612 ],\n",
       "          [1.1852274 ],\n",
       "          ...,\n",
       "          [0.        ],\n",
       "          [9.749452  ],\n",
       "          [0.        ]],\n",
       "\n",
       "         [[1.0322949 ],\n",
       "          [1.1087612 ],\n",
       "          [1.1087612 ],\n",
       "          ...,\n",
       "          [9.749452  ],\n",
       "          [9.749452  ],\n",
       "          [0.        ]],\n",
       "\n",
       "         [[1.0322949 ],\n",
       "          [1.0322949 ],\n",
       "          [1.070528  ],\n",
       "          ...,\n",
       "          [9.749452  ],\n",
       "          [0.        ],\n",
       "          [9.749452  ]]]],\n",
       "\n",
       "\n",
       "\n",
       "       [[[[1.3311725 ],\n",
       "          [1.3311725 ],\n",
       "          [1.3311725 ],\n",
       "          ...,\n",
       "          [0.2588391 ],\n",
       "          [0.07395402],\n",
       "          [8.800529  ]],\n",
       "\n",
       "         [[1.3311725 ],\n",
       "          [1.3311725 ],\n",
       "          [1.3311725 ],\n",
       "          ...,\n",
       "          [0.22186208],\n",
       "          [9.022391  ],\n",
       "          [8.578667  ]],\n",
       "\n",
       "         [[1.4051265 ],\n",
       "          [1.4051265 ],\n",
       "          [1.4051265 ],\n",
       "          ...,\n",
       "          [9.1703    ],\n",
       "          [9.318207  ],\n",
       "          [9.096345  ]],\n",
       "\n",
       "         ...,\n",
       "\n",
       "         [[0.9614023 ],\n",
       "          [0.9614023 ],\n",
       "          [0.9244253 ],\n",
       "          ...,\n",
       "          [0.14790805],\n",
       "          [0.18488505],\n",
       "          [0.14790805]],\n",
       "\n",
       "         [[0.9614023 ],\n",
       "          [0.9614023 ],\n",
       "          [0.9244253 ],\n",
       "          ...,\n",
       "          [0.07395402],\n",
       "          [0.14790805],\n",
       "          [0.07395402]],\n",
       "\n",
       "         [[0.9614023 ],\n",
       "          [0.9614023 ],\n",
       "          [0.9244253 ],\n",
       "          ...,\n",
       "          [0.07395402],\n",
       "          [0.07395402],\n",
       "          [0.        ]]],\n",
       "\n",
       "\n",
       "        [[[1.2941954 ],\n",
       "          [1.2941954 ],\n",
       "          [1.2941954 ],\n",
       "          ...,\n",
       "          [0.40674713],\n",
       "          [0.33279312],\n",
       "          [8.800529  ]],\n",
       "\n",
       "         [[1.2941954 ],\n",
       "          [1.2941954 ],\n",
       "          [1.2941954 ],\n",
       "          ...,\n",
       "          [0.2588391 ],\n",
       "          [9.1703    ],\n",
       "          [8.652621  ]],\n",
       "\n",
       "         [[1.3681495 ],\n",
       "          [1.3681495 ],\n",
       "          [1.2941954 ],\n",
       "          ...,\n",
       "          [9.096345  ],\n",
       "          [9.244253  ],\n",
       "          [9.096345  ]],\n",
       "\n",
       "         ...,\n",
       "\n",
       "         [[0.8874483 ],\n",
       "          [0.8874483 ],\n",
       "          [0.9244253 ],\n",
       "          ...,\n",
       "          [0.07395402],\n",
       "          [0.14790805],\n",
       "          [0.18488505]],\n",
       "\n",
       "         [[0.8874483 ],\n",
       "          [0.8874483 ],\n",
       "          [0.9244253 ],\n",
       "          ...,\n",
       "          [9.429138  ],\n",
       "          [0.03697701],\n",
       "          [0.07395402]],\n",
       "\n",
       "         [[0.8874483 ],\n",
       "          [0.8874483 ],\n",
       "          [0.9244253 ],\n",
       "          ...,\n",
       "          [0.        ],\n",
       "          [0.03697701],\n",
       "          [9.392161  ]]],\n",
       "\n",
       "\n",
       "        [[[1.4051265 ],\n",
       "          [1.4051265 ],\n",
       "          [1.3311725 ],\n",
       "          ...,\n",
       "          [0.40674713],\n",
       "          [0.33279312],\n",
       "          [8.800529  ]],\n",
       "\n",
       "         [[1.4051265 ],\n",
       "          [1.4051265 ],\n",
       "          [1.3311725 ],\n",
       "          ...,\n",
       "          [0.22186208],\n",
       "          [9.133322  ],\n",
       "          [8.689598  ]],\n",
       "\n",
       "         [[1.4051265 ],\n",
       "          [1.4051265 ],\n",
       "          [1.3311725 ],\n",
       "          ...,\n",
       "          [9.022391  ],\n",
       "          [9.1703    ],\n",
       "          [9.133322  ]],\n",
       "\n",
       "         ...,\n",
       "\n",
       "         [[0.8874483 ],\n",
       "          [0.8874483 ],\n",
       "          [0.9244253 ],\n",
       "          ...,\n",
       "          [0.07395402],\n",
       "          [0.14790805],\n",
       "          [0.18488505]],\n",
       "\n",
       "         [[0.8874483 ],\n",
       "          [0.8874483 ],\n",
       "          [0.9244253 ],\n",
       "          ...,\n",
       "          [9.429138  ],\n",
       "          [0.        ],\n",
       "          [0.03697701]],\n",
       "\n",
       "         [[0.8874483 ],\n",
       "          [0.8874483 ],\n",
       "          [0.9244253 ],\n",
       "          ...,\n",
       "          [0.        ],\n",
       "          [0.        ],\n",
       "          [9.392161  ]]],\n",
       "\n",
       "\n",
       "        ...,\n",
       "\n",
       "\n",
       "        [[[1.4051265 ],\n",
       "          [1.4051265 ],\n",
       "          [1.3681495 ],\n",
       "          ...,\n",
       "          [0.3697701 ],\n",
       "          [0.2958161 ],\n",
       "          [8.985414  ]],\n",
       "\n",
       "         [[1.4051265 ],\n",
       "          [1.4051265 ],\n",
       "          [1.3681495 ],\n",
       "          ...,\n",
       "          [0.03697701],\n",
       "          [9.022391  ],\n",
       "          [8.689598  ]],\n",
       "\n",
       "         [[1.3311725 ],\n",
       "          [1.3311725 ],\n",
       "          [1.3311725 ],\n",
       "          ...,\n",
       "          [9.022391  ],\n",
       "          [9.244253  ],\n",
       "          [9.207276  ]],\n",
       "\n",
       "         ...,\n",
       "\n",
       "         [[0.9614023 ],\n",
       "          [0.9614023 ],\n",
       "          [0.9614023 ],\n",
       "          ...,\n",
       "          [0.22186208],\n",
       "          [0.18488505],\n",
       "          [0.11093104]],\n",
       "\n",
       "         [[0.9614023 ],\n",
       "          [0.9614023 ],\n",
       "          [0.9614023 ],\n",
       "          ...,\n",
       "          [0.03697701],\n",
       "          [0.07395402],\n",
       "          [0.07395402]],\n",
       "\n",
       "         [[0.9614023 ],\n",
       "          [0.9614023 ],\n",
       "          [0.8874483 ],\n",
       "          ...,\n",
       "          [0.        ],\n",
       "          [0.03697701],\n",
       "          [0.03697701]]],\n",
       "\n",
       "\n",
       "        [[[1.3311725 ],\n",
       "          [1.3311725 ],\n",
       "          [1.3681495 ],\n",
       "          ...,\n",
       "          [0.40674713],\n",
       "          [0.5176782 ],\n",
       "          [8.763552  ]],\n",
       "\n",
       "         [[1.3311725 ],\n",
       "          [1.3311725 ],\n",
       "          [1.3681495 ],\n",
       "          ...,\n",
       "          [0.2588391 ],\n",
       "          [9.059368  ],\n",
       "          [8.578667  ]],\n",
       "\n",
       "         [[1.4051265 ],\n",
       "          [1.4051265 ],\n",
       "          [1.3311725 ],\n",
       "          ...,\n",
       "          [9.059368  ],\n",
       "          [9.1703    ],\n",
       "          [9.096345  ]],\n",
       "\n",
       "         ...,\n",
       "\n",
       "         [[0.9614023 ],\n",
       "          [0.9614023 ],\n",
       "          [0.9614023 ],\n",
       "          ...,\n",
       "          [0.22186208],\n",
       "          [0.18488505],\n",
       "          [0.11093104]],\n",
       "\n",
       "         [[0.9614023 ],\n",
       "          [0.9614023 ],\n",
       "          [0.9614023 ],\n",
       "          ...,\n",
       "          [0.03697701],\n",
       "          [0.11093104],\n",
       "          [0.11093104]],\n",
       "\n",
       "         [[0.9614023 ],\n",
       "          [0.9614023 ],\n",
       "          [0.8874483 ],\n",
       "          ...,\n",
       "          [0.        ],\n",
       "          [0.07395402],\n",
       "          [0.07395402]]],\n",
       "\n",
       "\n",
       "        [[[1.3311725 ],\n",
       "          [1.3311725 ],\n",
       "          [1.3681495 ],\n",
       "          ...,\n",
       "          [0.44372416],\n",
       "          [0.5176782 ],\n",
       "          [8.763552  ]],\n",
       "\n",
       "         [[1.3311725 ],\n",
       "          [1.3311725 ],\n",
       "          [1.3681495 ],\n",
       "          ...,\n",
       "          [0.18488505],\n",
       "          [9.059368  ],\n",
       "          [8.54169   ]],\n",
       "\n",
       "         [[1.4051265 ],\n",
       "          [1.4051265 ],\n",
       "          [1.3311725 ],\n",
       "          ...,\n",
       "          [9.059368  ],\n",
       "          [9.207276  ],\n",
       "          [9.133322  ]],\n",
       "\n",
       "         ...,\n",
       "\n",
       "         [[0.9614023 ],\n",
       "          [0.9614023 ],\n",
       "          [0.9614023 ],\n",
       "          ...,\n",
       "          [0.18488505],\n",
       "          [0.18488505],\n",
       "          [0.11093104]],\n",
       "\n",
       "         [[0.9614023 ],\n",
       "          [0.9614023 ],\n",
       "          [0.9614023 ],\n",
       "          ...,\n",
       "          [0.03697701],\n",
       "          [0.11093104],\n",
       "          [0.11093104]],\n",
       "\n",
       "         [[0.9614023 ],\n",
       "          [0.9614023 ],\n",
       "          [0.8874483 ],\n",
       "          ...,\n",
       "          [0.        ],\n",
       "          [0.07395402],\n",
       "          [0.07395402]]]]], dtype=float32)"
      ]
     },
     "execution_count": 22,
     "metadata": {},
     "output_type": "execute_result"
    }
   ],
   "source": [
    "val = sample.next(); val[0]"
   ]
  },
  {
   "cell_type": "code",
   "execution_count": 31,
   "metadata": {},
   "outputs": [
    {
     "name": "stderr",
     "output_type": "stream",
     "text": [
      "Lossy conversion from float32 to uint8. Range [0.0, 10.135005950927734]. Convert image to uint8 prior to saving to suppress this warning.\n",
      "Lossy conversion from float32 to uint8. Range [0.0, 10.135005950927734]. Convert image to uint8 prior to saving to suppress this warning.\n",
      "Lossy conversion from float32 to uint8. Range [0.0, 10.135005950927734]. Convert image to uint8 prior to saving to suppress this warning.\n",
      "Lossy conversion from float32 to uint8. Range [0.0, 10.135005950927734]. Convert image to uint8 prior to saving to suppress this warning.\n",
      "Lossy conversion from float32 to uint8. Range [0.0, 10.135005950927734]. Convert image to uint8 prior to saving to suppress this warning.\n",
      "Lossy conversion from float32 to uint8. Range [0.0, 10.135005950927734]. Convert image to uint8 prior to saving to suppress this warning.\n",
      "Lossy conversion from float32 to uint8. Range [0.0, 10.135005950927734]. Convert image to uint8 prior to saving to suppress this warning.\n",
      "Lossy conversion from float32 to uint8. Range [0.0, 10.135005950927734]. Convert image to uint8 prior to saving to suppress this warning.\n",
      "Lossy conversion from float32 to uint8. Range [0.0, 10.135005950927734]. Convert image to uint8 prior to saving to suppress this warning.\n",
      "Lossy conversion from float32 to uint8. Range [0.0, 10.135005950927734]. Convert image to uint8 prior to saving to suppress this warning.\n",
      "Lossy conversion from float32 to uint8. Range [0.0, 10.135005950927734]. Convert image to uint8 prior to saving to suppress this warning.\n",
      "Lossy conversion from float32 to uint8. Range [0.0, 10.135005950927734]. Convert image to uint8 prior to saving to suppress this warning.\n",
      "Lossy conversion from float32 to uint8. Range [0.0, 10.135005950927734]. Convert image to uint8 prior to saving to suppress this warning.\n",
      "Lossy conversion from float32 to uint8. Range [0.0, 10.135005950927734]. Convert image to uint8 prior to saving to suppress this warning.\n",
      "Lossy conversion from float32 to uint8. Range [0.0, 10.135005950927734]. Convert image to uint8 prior to saving to suppress this warning.\n",
      "Lossy conversion from float32 to uint8. Range [0.0, 10.135005950927734]. Convert image to uint8 prior to saving to suppress this warning.\n",
      "Lossy conversion from float32 to uint8. Range [0.0, 10.135005950927734]. Convert image to uint8 prior to saving to suppress this warning.\n",
      "Lossy conversion from float32 to uint8. Range [0.0, 10.135005950927734]. Convert image to uint8 prior to saving to suppress this warning.\n",
      "Lossy conversion from float32 to uint8. Range [0.0, 10.135005950927734]. Convert image to uint8 prior to saving to suppress this warning.\n",
      "Lossy conversion from float32 to uint8. Range [0.0, 10.135005950927734]. Convert image to uint8 prior to saving to suppress this warning.\n",
      "Lossy conversion from float32 to uint8. Range [0.0, 10.135005950927734]. Convert image to uint8 prior to saving to suppress this warning.\n",
      "Lossy conversion from float32 to uint8. Range [0.0, 10.135005950927734]. Convert image to uint8 prior to saving to suppress this warning.\n",
      "Lossy conversion from float32 to uint8. Range [0.0, 10.135005950927734]. Convert image to uint8 prior to saving to suppress this warning.\n",
      "Lossy conversion from float32 to uint8. Range [0.0, 10.135005950927734]. Convert image to uint8 prior to saving to suppress this warning.\n",
      "Lossy conversion from float32 to uint8. Range [0.0, 10.135005950927734]. Convert image to uint8 prior to saving to suppress this warning.\n",
      "Lossy conversion from float32 to uint8. Range [0.0, 10.135005950927734]. Convert image to uint8 prior to saving to suppress this warning.\n",
      "Lossy conversion from float32 to uint8. Range [0.0, 10.135005950927734]. Convert image to uint8 prior to saving to suppress this warning.\n",
      "Lossy conversion from float32 to uint8. Range [0.0, 10.135005950927734]. Convert image to uint8 prior to saving to suppress this warning.\n",
      "Lossy conversion from float32 to uint8. Range [0.0, 10.135005950927734]. Convert image to uint8 prior to saving to suppress this warning.\n",
      "Lossy conversion from float32 to uint8. Range [0.0, 10.135005950927734]. Convert image to uint8 prior to saving to suppress this warning.\n",
      "Lossy conversion from float32 to uint8. Range [0.0, 10.135005950927734]. Convert image to uint8 prior to saving to suppress this warning.\n",
      "Lossy conversion from float32 to uint8. Range [0.0, 10.135005950927734]. Convert image to uint8 prior to saving to suppress this warning.\n",
      "Lossy conversion from float32 to uint8. Range [0.0, 10.135005950927734]. Convert image to uint8 prior to saving to suppress this warning.\n",
      "Lossy conversion from float32 to uint8. Range [0.0, 10.135005950927734]. Convert image to uint8 prior to saving to suppress this warning.\n",
      "Lossy conversion from float32 to uint8. Range [0.0, 10.135005950927734]. Convert image to uint8 prior to saving to suppress this warning.\n",
      "Lossy conversion from float32 to uint8. Range [0.0, 10.135005950927734]. Convert image to uint8 prior to saving to suppress this warning.\n",
      "Lossy conversion from float32 to uint8. Range [0.0, 10.135005950927734]. Convert image to uint8 prior to saving to suppress this warning.\n",
      "Lossy conversion from float32 to uint8. Range [0.0, 10.135005950927734]. Convert image to uint8 prior to saving to suppress this warning.\n",
      "Lossy conversion from float32 to uint8. Range [0.0, 10.135005950927734]. Convert image to uint8 prior to saving to suppress this warning.\n",
      "Lossy conversion from float32 to uint8. Range [0.0, 10.135005950927734]. Convert image to uint8 prior to saving to suppress this warning.\n",
      "Lossy conversion from float32 to uint8. Range [0.0, 10.135005950927734]. Convert image to uint8 prior to saving to suppress this warning.\n",
      "Lossy conversion from float32 to uint8. Range [0.0, 10.135005950927734]. Convert image to uint8 prior to saving to suppress this warning.\n",
      "Lossy conversion from float32 to uint8. Range [0.0, 10.135005950927734]. Convert image to uint8 prior to saving to suppress this warning.\n",
      "Lossy conversion from float32 to uint8. Range [0.0, 10.135005950927734]. Convert image to uint8 prior to saving to suppress this warning.\n",
      "Lossy conversion from float32 to uint8. Range [0.0, 10.135005950927734]. Convert image to uint8 prior to saving to suppress this warning.\n",
      "Lossy conversion from float32 to uint8. Range [0.0, 10.135005950927734]. Convert image to uint8 prior to saving to suppress this warning.\n",
      "Lossy conversion from float32 to uint8. Range [0.0, 10.135005950927734]. Convert image to uint8 prior to saving to suppress this warning.\n",
      "Lossy conversion from float32 to uint8. Range [0.0, 10.135005950927734]. Convert image to uint8 prior to saving to suppress this warning.\n",
      "Lossy conversion from float32 to uint8. Range [0.0, 10.135005950927734]. Convert image to uint8 prior to saving to suppress this warning.\n",
      "Lossy conversion from float32 to uint8. Range [0.0, 10.135005950927734]. Convert image to uint8 prior to saving to suppress this warning.\n",
      "Lossy conversion from float32 to uint8. Range [0.0, 10.135005950927734]. Convert image to uint8 prior to saving to suppress this warning.\n",
      "Lossy conversion from float32 to uint8. Range [0.0, 10.135005950927734]. Convert image to uint8 prior to saving to suppress this warning.\n",
      "Lossy conversion from float32 to uint8. Range [0.0, 10.135005950927734]. Convert image to uint8 prior to saving to suppress this warning.\n",
      "Lossy conversion from float32 to uint8. Range [0.0, 10.135005950927734]. Convert image to uint8 prior to saving to suppress this warning.\n",
      "Lossy conversion from float32 to uint8. Range [0.0, 10.135005950927734]. Convert image to uint8 prior to saving to suppress this warning.\n",
      "Lossy conversion from float32 to uint8. Range [0.0, 10.135005950927734]. Convert image to uint8 prior to saving to suppress this warning.\n",
      "Lossy conversion from float32 to uint8. Range [0.0, 10.135005950927734]. Convert image to uint8 prior to saving to suppress this warning.\n",
      "Lossy conversion from float32 to uint8. Range [0.0, 10.135005950927734]. Convert image to uint8 prior to saving to suppress this warning.\n",
      "Lossy conversion from float32 to uint8. Range [0.0, 10.135005950927734]. Convert image to uint8 prior to saving to suppress this warning.\n",
      "Lossy conversion from float32 to uint8. Range [0.0, 10.135005950927734]. Convert image to uint8 prior to saving to suppress this warning.\n"
     ]
    },
    {
     "name": "stderr",
     "output_type": "stream",
     "text": [
      "Lossy conversion from float32 to uint8. Range [0.0, 10.135005950927734]. Convert image to uint8 prior to saving to suppress this warning.\n",
      "Lossy conversion from float32 to uint8. Range [0.0, 10.135005950927734]. Convert image to uint8 prior to saving to suppress this warning.\n",
      "Lossy conversion from float32 to uint8. Range [0.0, 10.135005950927734]. Convert image to uint8 prior to saving to suppress this warning.\n",
      "Lossy conversion from float32 to uint8. Range [0.0, 10.135005950927734]. Convert image to uint8 prior to saving to suppress this warning.\n",
      "Lossy conversion from float32 to uint8. Range [0.0, 10.135005950927734]. Convert image to uint8 prior to saving to suppress this warning.\n",
      "Lossy conversion from float32 to uint8. Range [0.0, 10.135005950927734]. Convert image to uint8 prior to saving to suppress this warning.\n",
      "Lossy conversion from float32 to uint8. Range [0.0, 10.135005950927734]. Convert image to uint8 prior to saving to suppress this warning.\n",
      "Lossy conversion from float32 to uint8. Range [0.0, 10.135005950927734]. Convert image to uint8 prior to saving to suppress this warning.\n",
      "Lossy conversion from float32 to uint8. Range [0.0, 10.135005950927734]. Convert image to uint8 prior to saving to suppress this warning.\n",
      "Lossy conversion from float32 to uint8. Range [0.0, 10.135005950927734]. Convert image to uint8 prior to saving to suppress this warning.\n",
      "Lossy conversion from float32 to uint8. Range [0.0, 10.135005950927734]. Convert image to uint8 prior to saving to suppress this warning.\n",
      "Lossy conversion from float32 to uint8. Range [0.0, 10.135005950927734]. Convert image to uint8 prior to saving to suppress this warning.\n",
      "Lossy conversion from float32 to uint8. Range [0.0, 10.135005950927734]. Convert image to uint8 prior to saving to suppress this warning.\n",
      "Lossy conversion from float32 to uint8. Range [0.0, 10.135005950927734]. Convert image to uint8 prior to saving to suppress this warning.\n",
      "Lossy conversion from float32 to uint8. Range [0.0, 10.135005950927734]. Convert image to uint8 prior to saving to suppress this warning.\n"
     ]
    }
   ],
   "source": [
    "imageio.mimsave('./animation.gif', val[0][0], fps=10)"
   ]
  },
  {
   "cell_type": "code",
   "execution_count": 35,
   "metadata": {},
   "outputs": [
    {
     "data": {
      "text/plain": [
       "<matplotlib.image.AxesImage at 0x17543ff5e88>"
      ]
     },
     "execution_count": 35,
     "metadata": {},
     "output_type": "execute_result"
    },
    {
     "data": {
      "image/png": "[encoded data removed]",
      "text/plain": [
       "<Figure size 640x480 with 1 Axes>"
      ]
     },
     "metadata": {},
     "output_type": "display_data"
    }
   ],
   "source": [
    "# 0:videos, 0: 1st video out of the batch,  0: return the first frame in the video \n",
    "plt.imshow(val[0][0][45])\n",
    "# each video has 74 frames"
   ]
  },
  {
   "cell_type": "code",
   "execution_count": 36,
   "metadata": {},
   "outputs": [
    {
     "data": {
      "text/plain": [
       "<tf.Tensor: shape=(), dtype=string, numpy=b'lay blue in d four please'>"
      ]
     },
     "execution_count": 36,
     "metadata": {},
     "output_type": "execute_result"
    }
   ],
   "source": [
    "tf.strings.reduce_join([num_to_char(word) for word in val[1][0]])\n"
   ]
  },
  {
   "cell_type": "code",
   "execution_count": 37,
   "metadata": {},
   "outputs": [
    {
     "data": {
      "text/plain": [
       "<tf.Tensor: shape=(), dtype=string, numpy=b'place white in p seven soon'>"
      ]
     },
     "execution_count": 37,
     "metadata": {},
     "output_type": "execute_result"
    }
   ],
   "source": [
    "tf.strings.reduce_join([num_to_char(word) for word in val[1][1]])\n"
   ]
  },
  {
   "cell_type": "markdown",
   "metadata": {},
   "source": [
    "# Designing the Deep Neural Network\n"
   ]
  },
  {
   "cell_type": "code",
   "execution_count": 16,
   "metadata": {},
   "outputs": [],
   "source": [
    "from tensorflow.keras.models import Sequential \n",
    "from tensorflow.keras.layers import Conv3D, LSTM, Dense, Dropout, Bidirectional, MaxPool3D, Activation, Reshape, SpatialDropout3D, BatchNormalization, TimeDistributed, Flatten\n",
    "from tensorflow.keras.optimizers import Adam\n",
    "from tensorflow.keras.callbacks import ModelCheckpoint, LearningRateScheduler"
   ]
  },
  {
   "cell_type": "code",
   "execution_count": 17,
   "metadata": {},
   "outputs": [
    {
     "data": {
      "text/plain": [
       "(75, 46, 140, 1)"
      ]
     },
     "execution_count": 17,
     "metadata": {},
     "output_type": "execute_result"
    }
   ],
   "source": [
    "\n",
    "data.as_numpy_iterator().next()[0][0].shape\n"
   ]
  },
  {
   "cell_type": "code",
   "execution_count": 18,
   "metadata": {},
   "outputs": [],
   "source": [
    "model = Sequential()\n",
    "model.add(Conv3D(128, 3, input_shape=(75,46,140,1), padding='same'))\n",
    "model.add(Activation('relu'))\n",
    "model.add(MaxPool3D((1,2,2)))\n",
    "\n",
    "model.add(Conv3D(256, 3, padding='same'))\n",
    "model.add(Activation('relu'))\n",
    "model.add(MaxPool3D((1,2,2)))\n",
    "\n",
    "model.add(Conv3D(75, 3, padding='same'))\n",
    "model.add(Activation('relu'))\n",
    "model.add(MaxPool3D((1,2,2)))\n",
    "\n",
    "model.add(TimeDistributed(Flatten()))\n",
    "\n",
    "model.add(Bidirectional(LSTM(128, kernel_initializer='Orthogonal', return_sequences=True)))\n",
    "model.add(Dropout(.5))\n",
    "\n",
    "model.add(Bidirectional(LSTM(128, kernel_initializer='Orthogonal', return_sequences=True)))\n",
    "model.add(Dropout(.5))\n",
    "\n",
    "model.add(Dense(char_to_num.vocabulary_size()+1, kernel_initializer='he_normal', activation='softmax'))"
   ]
  },
  {
   "cell_type": "code",
   "execution_count": 48,
   "metadata": {},
   "outputs": [
    {
     "name": "stdout",
     "output_type": "stream",
     "text": [
      "Model: \"sequential\"\n",
      "_________________________________________________________________\n",
      " Layer (type)                Output Shape              Param #   \n",
      "=================================================================\n",
      " conv3d (Conv3D)             (None, 75, 46, 140, 128)  3584      \n",
      "                                                                 \n",
      " activation (Activation)     (None, 75, 46, 140, 128)  0         \n",
      "                                                                 \n",
      " max_pooling3d (MaxPooling3D  (None, 75, 23, 70, 128)  0         \n",
      " )                                                               \n",
      "                                                                 \n",
      " conv3d_1 (Conv3D)           (None, 75, 23, 70, 256)   884992    \n",
      "                                                                 \n",
      " activation_1 (Activation)   (None, 75, 23, 70, 256)   0         \n",
      "                                                                 \n",
      " max_pooling3d_1 (MaxPooling  (None, 75, 11, 35, 256)  0         \n",
      " 3D)                                                             \n",
      "                                                                 \n",
      " conv3d_2 (Conv3D)           (None, 75, 11, 35, 75)    518475    \n",
      "                                                                 \n",
      " activation_2 (Activation)   (None, 75, 11, 35, 75)    0         \n",
      "                                                                 \n",
      " max_pooling3d_2 (MaxPooling  (None, 75, 5, 17, 75)    0         \n",
      " 3D)                                                             \n",
      "                                                                 \n",
      " time_distributed (TimeDistr  (None, 75, 6375)         0         \n",
      " ibuted)                                                         \n",
      "                                                                 \n",
      " bidirectional (Bidirectiona  (None, 75, 256)          6660096   \n",
      " l)                                                              \n",
      "                                                                 \n",
      " dropout (Dropout)           (None, 75, 256)           0         \n",
      "                                                                 \n",
      " bidirectional_1 (Bidirectio  (None, 75, 256)          394240    \n",
      " nal)                                                            \n",
      "                                                                 \n",
      " dropout_1 (Dropout)         (None, 75, 256)           0         \n",
      "                                                                 \n",
      " dense (Dense)               (None, 75, 41)            10537     \n",
      "                                                                 \n",
      "=================================================================\n",
      "Total params: 8,471,924\n",
      "Trainable params: 8,471,924\n",
      "Non-trainable params: 0\n",
      "_________________________________________________________________\n"
     ]
    }
   ],
   "source": [
    "\n",
    "model.summary()"
   ]
  },
  {
   "cell_type": "code",
   "execution_count": 23,
   "metadata": {},
   "outputs": [
    {
     "name": "stdout",
     "output_type": "stream",
     "text": [
      "1/1 [==============================] - 14s 14s/step\n"
     ]
    }
   ],
   "source": [
    "yhat = model.predict(val[0])\n"
   ]
  },
  {
   "cell_type": "code",
   "execution_count": 50,
   "metadata": {},
   "outputs": [
    {
     "data": {
      "text/plain": [
       "<tf.Tensor: shape=(), dtype=string, numpy=b'9999cccccccccccccccc??????????cccc????????????????????????????????cccccccc?'>"
      ]
     },
     "execution_count": 50,
     "metadata": {},
     "output_type": "execute_result"
    }
   ],
   "source": [
    "tf.strings.reduce_join([num_to_char(x) for x in tf.argmax(yhat[0],axis=1)])"
   ]
  },
  {
   "cell_type": "code",
   "execution_count": 51,
   "metadata": {},
   "outputs": [
    {
     "data": {
      "text/plain": [
       "(None, 75, 46, 140, 1)"
      ]
     },
     "execution_count": 51,
     "metadata": {},
     "output_type": "execute_result"
    }
   ],
   "source": [
    "model.input_shape"
   ]
  },
  {
   "cell_type": "code",
   "execution_count": 52,
   "metadata": {},
   "outputs": [
    {
     "data": {
      "text/plain": [
       "(None, 75, 41)"
      ]
     },
     "execution_count": 52,
     "metadata": {},
     "output_type": "execute_result"
    }
   ],
   "source": [
    "model.output_shape"
   ]
  },
  {
   "cell_type": "markdown",
   "metadata": {},
   "source": [
    "# Setting up Training options"
   ]
  },
  {
   "cell_type": "code",
   "execution_count": null,
   "metadata": {},
   "outputs": [],
   "source": [
    "def scheduler(epoch, lr):\n",
    "    if epoch < 30:\n",
    "        return lr\n",
    "    else:\n",
    "        return lr * tf.math.exp(-0.1)"
   ]
  },
  {
   "cell_type": "code",
   "execution_count": null,
   "metadata": {},
   "outputs": [],
   "source": [
    "def CTCLoss(y_true, y_pred):\n",
    "    batch_len = tf.cast(tf.shape(y_true)[0], dtype=\"int64\")\n",
    "    input_length = tf.cast(tf.shape(y_pred)[1], dtype=\"int64\")\n",
    "    label_length = tf.cast(tf.shape(y_true)[1], dtype=\"int64\")\n",
    "\n",
    "    input_length = input_length * tf.ones(shape=(batch_len, 1), dtype=\"int64\")\n",
    "    label_length = label_length * tf.ones(shape=(batch_len, 1), dtype=\"int64\")\n",
    "\n",
    "    loss = tf.keras.backend.ctc_batch_cost(y_true, y_pred, input_length, label_length)\n",
    "    return loss"
   ]
  },
  {
   "cell_type": "code",
   "execution_count": null,
   "metadata": {},
   "outputs": [],
   "source": [
    "class ProduceExample(tf.keras.callbacks.Callback): \n",
    "    def __init__(self, dataset) -> None: \n",
    "        self.dataset = dataset.as_numpy_iterator()\n",
    "    \n",
    "    def on_epoch_end(self, epoch, logs=None) -> None:\n",
    "        data = self.dataset.next()\n",
    "        yhat = self.model.predict(data[0])\n",
    "        decoded = tf.keras.backend.ctc_decode(yhat, [75,75], greedy=False)[0][0].numpy()\n",
    "        for x in range(len(yhat)):           \n",
    "            print('Original:', tf.strings.reduce_join(num_to_char(data[1][x])).numpy().decode('utf-8'))\n",
    "            print('Prediction:', tf.strings.reduce_join(num_to_char(decoded[x])).numpy().decode('utf-8'))\n",
    "            print('~'*100)"
   ]
  },
  {
   "cell_type": "code",
   "execution_count": null,
   "metadata": {},
   "outputs": [],
   "source": [
    "model.compile(optimizer=Adam(learning_rate=0.0001), loss=CTCLoss)"
   ]
  },
  {
   "cell_type": "code",
   "execution_count": null,
   "metadata": {},
   "outputs": [],
   "source": [
    "\n",
    "checkpoint_callback = ModelCheckpoint(os.path.join('models','checkpoint'), monitor='loss', save_weights_only=True) "
   ]
  },
  {
   "cell_type": "code",
   "execution_count": null,
   "metadata": {},
   "outputs": [],
   "source": [
    "schedule_callback = LearningRateScheduler(scheduler)"
   ]
  },
  {
   "cell_type": "code",
   "execution_count": null,
   "metadata": {},
   "outputs": [],
   "source": [
    "example_callback = ProduceExample(test)"
   ]
  },
  {
   "cell_type": "code",
   "execution_count": null,
   "metadata": {
    "scrolled": true
   },
   "outputs": [],
   "source": [
    "# model.fit(train, validation_data=test, epochs=10, callbacks=[checkpoint_callback, schedule_callback, example_callback])"
   ]
  },
  {
   "cell_type": "markdown",
   "metadata": {},
   "source": [
    "# Make a  Prediction"
   ]
  },
  {
   "cell_type": "code",
   "execution_count": 27,
   "metadata": {},
   "outputs": [
    {
     "name": "stderr",
     "output_type": "stream",
     "text": [
      "Downloading...\n",
      "From (uriginal): https://drive.google.com/uc?id=1vWscXs4Vt0a_1IH1-ct2TCgXAZT-N3_Y\n",
      "From (redirected): https://drive.google.com/uc?id=1vWscXs4Vt0a_1IH1-ct2TCgXAZT-N3_Y&confirm=t&uuid=d1ad8d93-d471-48a9-8648-bfc6be47bf0f\n",
      "To: E:\\DIP_PROJECT\\Lip_Reading\\checkpoints.zip\n",
      "100%|█████████████████████████████████████████████████████████████████████████████| 94.5M/94.5M [00:06<00:00, 15.5MB/s]\n"
     ]
    },
    {
     "data": {
      "text/plain": [
       "['models\\\\checkpoint.index',\n",
       " 'models\\\\__MACOSX/._checkpoint.index',\n",
       " 'models\\\\checkpoint.data-00000-of-00001',\n",
       " 'models\\\\__MACOSX/._checkpoint.data-00000-of-00001',\n",
       " 'models\\\\checkpoint',\n",
       " 'models\\\\__MACOSX/._checkpoint']"
      ]
     },
     "execution_count": 27,
     "metadata": {},
     "output_type": "execute_result"
    }
   ],
   "source": [
    "url = 'https://drive.google.com/uc?id=1vWscXs4Vt0a_1IH1-ct2TCgXAZT-N3_Y'\n",
    "output = 'checkpoints.zip'\n",
    "gdown.download(url, output, quiet=False)\n",
    "gdown.extractall('checkpoints.zip', 'models')"
   ]
  },
  {
   "cell_type": "code",
   "execution_count": 24,
   "metadata": {},
   "outputs": [
    {
     "data": {
      "text/plain": [
       "<tensorflow.python.checkpoint.checkpoint.CheckpointLoadStatus at 0x165dfec1d88>"
      ]
     },
     "execution_count": 24,
     "metadata": {},
     "output_type": "execute_result"
    }
   ],
   "source": [
    "model.load_weights('models/checkpoint')"
   ]
  },
  {
   "cell_type": "code",
   "execution_count": 25,
   "metadata": {},
   "outputs": [],
   "source": [
    "\n",
    "test_data = test.as_numpy_iterator()"
   ]
  },
  {
   "cell_type": "code",
   "execution_count": 26,
   "metadata": {},
   "outputs": [],
   "source": [
    "sample = test_data.next()"
   ]
  },
  {
   "cell_type": "code",
   "execution_count": 27,
   "metadata": {},
   "outputs": [
    {
     "name": "stdout",
     "output_type": "stream",
     "text": [
      "1/1 [==============================] - 10s 10s/step\n"
     ]
    }
   ],
   "source": [
    "yhat = model.predict(sample[0])"
   ]
  },
  {
   "cell_type": "code",
   "execution_count": 28,
   "metadata": {},
   "outputs": [
    {
     "name": "stdout",
     "output_type": "stream",
     "text": [
      "~~~~~~~~~~~~~~~~~~~~~~~~~~~~~~~~~~~~~~~~~~~~~~~~~~~~~~~~~~~~~~~~~~~~~~~~~~~~~~~~~~~~~~~~~~~~~~~~~~~~ REAL TEXT\n"
     ]
    },
    {
     "data": {
      "text/plain": [
       "[<tf.Tensor: shape=(), dtype=string, numpy=b'bin red at g one again'>,\n",
       " <tf.Tensor: shape=(), dtype=string, numpy=b'place green with l one soon'>]"
      ]
     },
     "execution_count": 28,
     "metadata": {},
     "output_type": "execute_result"
    }
   ],
   "source": [
    "print('~'*100, 'REAL TEXT')\n",
    "[tf.strings.reduce_join([num_to_char(word) for word in sentence]) for sentence in sample[1]]"
   ]
  },
  {
   "cell_type": "code",
   "execution_count": 29,
   "metadata": {},
   "outputs": [],
   "source": [
    "decoded = tf.keras.backend.ctc_decode(yhat, input_length=[75,75], greedy=True)[0][0].numpy()"
   ]
  },
  {
   "cell_type": "code",
   "execution_count": 30,
   "metadata": {},
   "outputs": [
    {
     "name": "stdout",
     "output_type": "stream",
     "text": [
      "~~~~~~~~~~~~~~~~~~~~~~~~~~~~~~~~~~~~~~~~~~~~~~~~~~~~~~~~~~~~~~~~~~~~~~~~~~~~~~~~~~~~~~~~~~~~~~~~~~~~ PREDICTIONS\n"
     ]
    },
    {
     "data": {
      "text/plain": [
       "[<tf.Tensor: shape=(), dtype=string, numpy=b'bin red at g one again'>,\n",
       " <tf.Tensor: shape=(), dtype=string, numpy=b'place green with one soon'>]"
      ]
     },
     "execution_count": 30,
     "metadata": {},
     "output_type": "execute_result"
    }
   ],
   "source": [
    "print('~'*100, 'PREDICTIONS')\n",
    "[tf.strings.reduce_join([num_to_char(word) for word in sentence]) for sentence in decoded]"
   ]
  },
  {
   "cell_type": "markdown",
   "metadata": {},
   "source": [
    "# Test on the video"
   ]
  },
  {
   "cell_type": "code",
   "execution_count": null,
   "metadata": {},
   "outputs": [],
   "source": [
    "sample = load_data(tf.convert_to_tensor('.\\\\data\\\\s1\\\\bras9a.mpg'))"
   ]
  },
  {
   "cell_type": "code",
   "execution_count": null,
   "metadata": {},
   "outputs": [],
   "source": [
    "print('~'*100, 'REAL TEXT')\n",
    "[tf.strings.reduce_join([num_to_char(word) for word in sentence]) for sentence in [sample[1]]]"
   ]
  },
  {
   "cell_type": "code",
   "execution_count": null,
   "metadata": {},
   "outputs": [],
   "source": [
    "yhat = model.predict(tf.expand_dims(sample[0], axis=0))"
   ]
  },
  {
   "cell_type": "code",
   "execution_count": null,
   "metadata": {},
   "outputs": [],
   "source": [
    "decoded = tf.keras.backend.ctc_decode(yhat, input_length=[75], greedy=True)[0][0].numpy()"
   ]
  },
  {
   "cell_type": "code",
   "execution_count": null,
   "metadata": {},
   "outputs": [],
   "source": [
    "print('~'*100, 'PREDICTIONS')\n",
    "[tf.strings.reduce_join([num_to_char(word) for word in sentence]) for sentence in decoded]"
   ]
  }
 ],
 "metadata": {
  "kernelspec": {
   "display_name": "lipreading",
   "language": "python",
   "name": "lipreading"
  },
  "language_info": {
   "codemirror_mode": {
    "name": "ipython",
    "version": 3
   },
   "file_extension": ".py",
   "mimetype": "text/x-python",
   "name": "python",
   "nbconvert_exporter": "python",
   "pygments_lexer": "ipython3",
   "version": "3.7.9"
  }
 },
 "nbformat": 4,
 "nbformat_minor": 2
}
